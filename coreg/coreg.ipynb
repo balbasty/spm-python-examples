{
 "cells": [
  {
   "cell_type": "code",
   "execution_count": 1,
   "id": "2cdc4d3e-d2b0-43ab-af81-de386b2953c3",
   "metadata": {},
   "outputs": [],
   "source": [
    "import zipfile\n",
    "import os\n",
    "import os.path as op\n",
    "import spm"
   ]
  },
  {
   "cell_type": "code",
   "execution_count": 2,
   "id": "1ae838c1-a1be-438e-a3b4-bffce553a66a",
   "metadata": {},
   "outputs": [],
   "source": [
    "url = \"https://www.fil.ion.ucl.ac.uk/spm/download/data/MoAEpilot/MoAEpilot.zip\"\n",
    "data_path = op.join(\"data\")\n",
    "zip_path = op.join(data_path, \"MoAEpilot.zip\")\n",
    "\n",
    "os.makedirs(data_path, exist_ok=True)"
   ]
  },
  {
   "cell_type": "code",
   "execution_count": 3,
   "id": "5682c4ff-ab55-4ec9-8486-32bcde065368",
   "metadata": {},
   "outputs": [
    {
     "name": "stdout",
     "output_type": "stream",
     "text": [
      "Downloading Auditory dataset... \n",
      "Initializing Matlab Runtime...\n"
     ]
    },
    {
     "name": "stderr",
     "output_type": "stream",
     "text": [
      "WARNING: package sun.awt.X11 not in java.desktop\n",
      "WARNING: package sun.awt.X11 not in java.desktop\n"
     ]
    }
   ],
   "source": [
    "print(\"Downloading Auditory dataset... \")\n",
    "spm.Runtime.call(\"urlwrite\", url, zip_path)\n",
    "with zipfile.ZipFile(zip_path, \"r\") as f:\n",
    "    f.extractall(data_path)"
   ]
  },
  {
   "cell_type": "code",
   "execution_count": 4,
   "id": "2bc00e68-4987-4935-b68b-9f6310aa6ee2",
   "metadata": {},
   "outputs": [],
   "source": [
    "fname_func = op.join(data_path, \"fM00223\", \"fM00223_004.img\")\n",
    "fname_struct = op.join(data_path, \"sM00223\", \"sM00223_002.img\")"
   ]
  },
  {
   "cell_type": "code",
   "execution_count": 5,
   "id": "497402ac-0e7f-4814-84d2-1bfdb71091e4",
   "metadata": {},
   "outputs": [
    {
     "name": "stdout",
     "output_type": "stream",
     "text": [
      "\n",
      "SPM25: spm_coreg                                   14:01:07 - 17/10/2025\n",
      "========================================================================\n",
      "Warning: PostScript format 'psc2' will not be supported in a future release.\n",
      "> In inputcheck\n",
      "In print (line 41)\n",
      "In spm_print (line 98)\n",
      "In spm_coreg>display_results (line 386)\n",
      "In spm_coreg (line 155)\n",
      "In mpython_endpoint (line 19)\n",
      "Printing 'Graphics' figure to:\n",
      "  /Users/balbasty/Dropbox/Workspace/code/fil/spm-python-examples/coreg/spm_2025Oct17.ps\n",
      "Completed                               :          14:01:13 - 17/10/2025\n"
     ]
    },
    {
     "name": "stderr",
     "output_type": "stream",
     "text": [
      "WARNING: An illegal reflective access operation has occurred\n",
      "WARNING: Illegal reflective access by com.mathworks.hg.peer.EventUtilities (file:/Applications/MATLAB/MATLAB_Runtime/R2024b/java/jar/hg.jar) to field java.awt.event.MouseEvent.yAbs\n",
      "WARNING: Please consider reporting this to the maintainers of com.mathworks.hg.peer.EventUtilities\n",
      "WARNING: Use --illegal-access=warn to enable warnings of further illegal reflective access operations\n",
      "WARNING: All illegal access operations will be denied in a future release\n"
     ]
    }
   ],
   "source": [
    "spm.spm_figure('Create', 'Graphics', 'Graphics', 'on', nargout=0)\n",
    "\n",
    "ref = spm.spm_vol(fname_struct)\n",
    "mov = spm.spm_vol(fname_func)\n",
    "prm = spm.spm_coreg(ref, mov)"
   ]
  },
  {
   "cell_type": "code",
   "execution_count": 6,
   "id": "6e66cb16-d5f7-494f-adcb-49f802b9b4fe",
   "metadata": {},
   "outputs": [
    {
     "data": {
      "text/plain": [
       "Array([-1.77219187e+00,  3.83827594e+01,  3.38847688e+01, -1.46936722e-02,\n",
       "        5.07260289e-03,  7.54931027e-03])"
      ]
     },
     "execution_count": 6,
     "metadata": {},
     "output_type": "execute_result"
    }
   ],
   "source": [
    "prm"
   ]
  },
  {
   "cell_type": "code",
   "execution_count": 7,
   "id": "8887a5c5-3151-48df-bff9-5aa2dde25d31",
   "metadata": {},
   "outputs": [
    {
     "data": {
      "text/plain": [
       "Array([[ 9.99958639e-01,  7.54914144e-03,  5.07258114e-03,\n",
       "        -1.77219187e+00],\n",
       "       [-7.47389358e-03,  9.99864120e-01, -1.46929545e-02,\n",
       "         3.83827594e+01],\n",
       "       [-5.18281107e-03,  1.46544348e-02,  9.99879186e-01,\n",
       "         3.38847688e+01],\n",
       "       [ 0.00000000e+00,  0.00000000e+00,  0.00000000e+00,\n",
       "         1.00000000e+00]])"
      ]
     },
     "execution_count": 7,
     "metadata": {},
     "output_type": "execute_result"
    }
   ],
   "source": [
    "spm.spm_matrix(prm)"
   ]
  }
 ],
 "metadata": {
  "kernelspec": {
   "display_name": "spm",
   "language": "python",
   "name": "spm"
  },
  "language_info": {
   "codemirror_mode": {
    "name": "ipython",
    "version": 3
   },
   "file_extension": ".py",
   "mimetype": "text/x-python",
   "name": "python",
   "nbconvert_exporter": "python",
   "pygments_lexer": "ipython3",
   "version": "3.10.16"
  }
 },
 "nbformat": 4,
 "nbformat_minor": 5
}
